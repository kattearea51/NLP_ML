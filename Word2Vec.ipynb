{
 "cells": [
  {
   "cell_type": "raw",
   "id": "a70c6efa",
   "metadata": {},
   "source": [
    "Using a neural network with only a couple layers, word2vec tries to learn relationships between words and embeds them in a lower-dimensional vector space. To do this, word2vec trains words against other words that neighbor them in the input corpus, capturing some of the meaning in the sequence of words. The researchers devised two novel approaches:\n",
    "\n",
    "Continuous bag of words (CBoW)\n",
    "Skip-gram"
   ]
  },
  {
   "cell_type": "raw",
   "id": "f1d37a02",
   "metadata": {},
   "source": [
    "1] Tokenization \n",
    "2] Normalization \n",
    "3] Stop words removal \n",
    "4] Stemming\n",
    "5] Lemmatization\n",
    "6] Contraction mapping \n",
    "7] Handling accented character\n",
    "8] Parts of speech Tagging"
   ]
  },
  {
   "cell_type": "raw",
   "id": "13313e16",
   "metadata": {},
   "source": [
    "import string \n",
    "punctuation = string.punctuation\n",
    "punctuation\n",
    "\n",
    "# Remove punctuations\n",
    "text_without_punct = [word for word in lower_text if word not in punctuation]\n",
    "text_without_punct"
   ]
  },
  {
   "cell_type": "raw",
   "id": "2d0d1589",
   "metadata": {},
   "source": [
    "6] Contraction mapping \n",
    "        >>>>>>> can't - can not won't - will not\n",
    "\n",
    "import contractions\n",
    "text = \"I can't build NLP model as I am in learning phase\"\n",
    "expanded_text = contractions.fix(text)\n",
    "expanded_text"
   ]
  },
  {
   "cell_type": "raw",
   "id": "c0dfd22c",
   "metadata": {},
   "source": [
    "# spelling correction \n",
    "from textblob import TextBlob\n",
    "incorrect_text = 'ceertain conditions durng seveal geneeratios arre modified in the same maner'\n",
    "textblb = TextBlob(incorrect_text)\n",
    "textblb.correct().string"
   ]
  },
  {
   "cell_type": "raw",
   "id": "026493d4",
   "metadata": {},
   "source": [
    "# misspell checker \n",
    "from spellchecker import SpellChecker\n",
    "spell = SpellChecker()\n",
    "misspelled = spell.unknown(['let','us','wlak','on','the','groun'])\n",
    "print(misspelled)"
   ]
  },
  {
   "cell_type": "raw",
   "id": "5f2bfa32",
   "metadata": {},
   "source": [
    "# Handling Emojis \n",
    "emoji_sent = \"emoji translation : 👍🏻\"\n",
    "import emoji \n",
    "print(emoji.demojize(emoji_sent))\n",
    "\n",
    "o/p >>>>>>> emoji translation : :thumbs_up_light_skin_tone:\n",
    "\n",
    "\n",
    "\n",
    "print(emoji.emojize('Python is :thumbs_up:'))\n",
    "\n",
    "o/p >>>>>>> Python is 👍"
   ]
  },
  {
   "cell_type": "raw",
   "id": "6ffb2f3e",
   "metadata": {},
   "source": [
    "Wordcloud\n",
    "The magnitude of each word represents its frequency or relevance in a word cloud, which is a data visualization tool for visualizing text data.\n",
    "\n",
    "The greater and bolder a term appears in the word cloud, the more times it appears in a source of textual data (such as a speech, blog post, or database) (Also known as a tag cloud or a text cloud). A word cloud is a collection of words shown in different sizes. The more frequently a term appears in a document and the more important it is, the larger and bolder it is. These are great ways for extracting the most important parts of textual data, such as blog posts, and databases."
   ]
  },
  {
   "cell_type": "raw",
   "id": "7a6a3aa7",
   "metadata": {},
   "source": [
    "# \"á á, é, í, ó, ú, ý, Á, É, Í, Ó, Ú, Ý \" >>>>>>>>>>> accenteed charachters\n",
    "\n",
    "from unidecode import unidecode\n",
    "\n",
    "# Handling accented characters\n",
    "accented_character = \"á á, é, í, ó, ú, ý, Á, É, Í, Ó, Ú, Ý \"\n",
    "fixed_words = unidecode(accented_character)\n",
    "fixed_words"
   ]
  },
  {
   "cell_type": "code",
   "execution_count": 45,
   "id": "25496ce6",
   "metadata": {},
   "outputs": [
    {
     "name": "stdout",
     "output_type": "stream",
     "text": [
      "car\n",
      "message\n",
      "service\n"
     ]
    }
   ],
   "source": [
    "# autocorrect \n",
    "from autocorrect import Speller\n",
    "\n",
    "spell = Speller(lang='en')\n",
    "print(spell('caar'))\n",
    "print(spell('mussage'))\n",
    "print(spell('survice'))"
   ]
  },
  {
   "cell_type": "code",
   "execution_count": 19,
   "id": "55c05909",
   "metadata": {},
   "outputs": [],
   "source": [
    "import numpy as np\n",
    "import pandas as pd\n",
    "\n",
    "import warnings\n",
    "\n",
    "warnings.filterwarnings('ignore')"
   ]
  },
  {
   "cell_type": "code",
   "execution_count": 20,
   "id": "a0d69899",
   "metadata": {},
   "outputs": [],
   "source": [
    "from nltk.corpus import stopwords"
   ]
  },
  {
   "cell_type": "code",
   "execution_count": 21,
   "id": "ef83460b",
   "metadata": {},
   "outputs": [],
   "source": [
    "data = pd.read_csv('Helpdesk Sample Emails - Full Set.tsv','\\t')"
   ]
  },
  {
   "cell_type": "code",
   "execution_count": 22,
   "id": "d59d1c70",
   "metadata": {},
   "outputs": [
    {
     "data": {
      "text/html": [
       "<div>\n",
       "<style scoped>\n",
       "    .dataframe tbody tr th:only-of-type {\n",
       "        vertical-align: middle;\n",
       "    }\n",
       "\n",
       "    .dataframe tbody tr th {\n",
       "        vertical-align: top;\n",
       "    }\n",
       "\n",
       "    .dataframe thead th {\n",
       "        text-align: right;\n",
       "    }\n",
       "</style>\n",
       "<table border=\"1\" class=\"dataframe\">\n",
       "  <thead>\n",
       "    <tr style=\"text-align: right;\">\n",
       "      <th></th>\n",
       "      <th>Target Category</th>\n",
       "      <th>Email Body</th>\n",
       "    </tr>\n",
       "  </thead>\n",
       "  <tbody>\n",
       "    <tr>\n",
       "      <th>0</th>\n",
       "      <td>Desktop Hardware</td>\n",
       "      <td>Hey IT support team - my monitor is not turnin...</td>\n",
       "    </tr>\n",
       "    <tr>\n",
       "      <th>1</th>\n",
       "      <td>Desktop Software</td>\n",
       "      <td>Hey - I just got a new laptop and I need some ...</td>\n",
       "    </tr>\n",
       "    <tr>\n",
       "      <th>2</th>\n",
       "      <td>Networking</td>\n",
       "      <td>IT Support team - my wireless internet keeps g...</td>\n",
       "    </tr>\n",
       "    <tr>\n",
       "      <th>3</th>\n",
       "      <td>Account Access</td>\n",
       "      <td>Hey -  we just got a new team member on the ma...</td>\n",
       "    </tr>\n",
       "    <tr>\n",
       "      <th>4</th>\n",
       "      <td>General Question</td>\n",
       "      <td>Hey how do I delete my internet cookies? I saw...</td>\n",
       "    </tr>\n",
       "    <tr>\n",
       "      <th>...</th>\n",
       "      <td>...</td>\n",
       "      <td>...</td>\n",
       "    </tr>\n",
       "    <tr>\n",
       "      <th>261</th>\n",
       "      <td>Networking</td>\n",
       "      <td>I have a vendor coming in to the office on Thu...</td>\n",
       "    </tr>\n",
       "    <tr>\n",
       "      <th>262</th>\n",
       "      <td>Networking</td>\n",
       "      <td>My laptop keeps losing wifi connection while I...</td>\n",
       "    </tr>\n",
       "    <tr>\n",
       "      <th>263</th>\n",
       "      <td>Networking</td>\n",
       "      <td>I just got another workstation and need an add...</td>\n",
       "    </tr>\n",
       "    <tr>\n",
       "      <th>264</th>\n",
       "      <td>Networking</td>\n",
       "      <td>I'm having issues with the VPN. My machine wil...</td>\n",
       "    </tr>\n",
       "    <tr>\n",
       "      <th>265</th>\n",
       "      <td>Networking</td>\n",
       "      <td>NaN</td>\n",
       "    </tr>\n",
       "  </tbody>\n",
       "</table>\n",
       "<p>266 rows × 2 columns</p>\n",
       "</div>"
      ],
      "text/plain": [
       "      Target Category                                         Email Body\n",
       "0    Desktop Hardware  Hey IT support team - my monitor is not turnin...\n",
       "1    Desktop Software  Hey - I just got a new laptop and I need some ...\n",
       "2          Networking  IT Support team - my wireless internet keeps g...\n",
       "3      Account Access  Hey -  we just got a new team member on the ma...\n",
       "4    General Question  Hey how do I delete my internet cookies? I saw...\n",
       "..                ...                                                ...\n",
       "261        Networking  I have a vendor coming in to the office on Thu...\n",
       "262        Networking  My laptop keeps losing wifi connection while I...\n",
       "263        Networking  I just got another workstation and need an add...\n",
       "264        Networking  I'm having issues with the VPN. My machine wil...\n",
       "265        Networking                                                NaN\n",
       "\n",
       "[266 rows x 2 columns]"
      ]
     },
     "execution_count": 22,
     "metadata": {},
     "output_type": "execute_result"
    }
   ],
   "source": [
    "data"
   ]
  },
  {
   "cell_type": "raw",
   "id": "4482c25e",
   "metadata": {},
   "source": [
    "corpus >>>>>> sentence >>>> word >>>> vector\n",
    "\n",
    "\n",
    "regular expression >>>>> a-z A-Z 0-9\n",
    "stemming  >>>>>>>>   1. word to word basic form converted but it does not give actual meaning of words \n",
    "                     2. it is aggressive cutter \n",
    "                     3. it is faster than stemming\n",
    "                     4. used in applications like spam detection \n",
    "lemmatization >>>>>>>> 1.word to word basic form with meaning from sentence\n",
    "                       2. it is slower than lamitizer\n",
    "                       3. used in applications like chatbot, translator"
   ]
  },
  {
   "cell_type": "code",
   "execution_count": 23,
   "id": "406a1f09",
   "metadata": {},
   "outputs": [],
   "source": [
    "data.drop(265,axis=0,inplace=True)"
   ]
  },
  {
   "cell_type": "code",
   "execution_count": 24,
   "id": "e730d600",
   "metadata": {},
   "outputs": [],
   "source": [
    "from nltk.stem import PorterStemmer,WordNetLemmatizer"
   ]
  },
  {
   "cell_type": "code",
   "execution_count": 25,
   "id": "af4c406b",
   "metadata": {},
   "outputs": [],
   "source": [
    "ps = PorterStemmer()\n",
    "lm = WordNetLemmatizer()"
   ]
  },
  {
   "cell_type": "code",
   "execution_count": 26,
   "id": "cd683222",
   "metadata": {},
   "outputs": [],
   "source": [
    "import re"
   ]
  },
  {
   "cell_type": "code",
   "execution_count": 27,
   "id": "4105507c",
   "metadata": {},
   "outputs": [],
   "source": [
    "corpus = []\n",
    "\n",
    "for i in range(len(data['Email Body'])):\n",
    "    a = re.sub('[^a-zA-Z]',' ',data['Email Body'][i])\n",
    "    a = a.lower()\n",
    "    a = a.split()\n",
    "    a = [ps.stem(word) for word in a if word not in set(stopwords.words('english'))]\n",
    "    a = ' '.join(a)\n",
    "    corpus.append(a)"
   ]
  },
  {
   "cell_type": "code",
   "execution_count": 28,
   "id": "992eba50",
   "metadata": {},
   "outputs": [],
   "source": [
    "data['stemed']=corpus"
   ]
  },
  {
   "cell_type": "code",
   "execution_count": 29,
   "id": "11da32f6",
   "metadata": {},
   "outputs": [
    {
     "data": {
      "text/html": [
       "<div>\n",
       "<style scoped>\n",
       "    .dataframe tbody tr th:only-of-type {\n",
       "        vertical-align: middle;\n",
       "    }\n",
       "\n",
       "    .dataframe tbody tr th {\n",
       "        vertical-align: top;\n",
       "    }\n",
       "\n",
       "    .dataframe thead th {\n",
       "        text-align: right;\n",
       "    }\n",
       "</style>\n",
       "<table border=\"1\" class=\"dataframe\">\n",
       "  <thead>\n",
       "    <tr style=\"text-align: right;\">\n",
       "      <th></th>\n",
       "      <th>Target Category</th>\n",
       "      <th>Email Body</th>\n",
       "      <th>stemed</th>\n",
       "    </tr>\n",
       "  </thead>\n",
       "  <tbody>\n",
       "    <tr>\n",
       "      <th>0</th>\n",
       "      <td>Desktop Hardware</td>\n",
       "      <td>Hey IT support team - my monitor is not turnin...</td>\n",
       "      <td>hey support team monitor turn tri plug still n...</td>\n",
       "    </tr>\n",
       "    <tr>\n",
       "      <th>1</th>\n",
       "      <td>Desktop Software</td>\n",
       "      <td>Hey - I just got a new laptop and I need some ...</td>\n",
       "      <td>hey got new laptop need softwar old laptop som...</td>\n",
       "    </tr>\n",
       "    <tr>\n",
       "      <th>2</th>\n",
       "      <td>Networking</td>\n",
       "      <td>IT Support team - my wireless internet keeps g...</td>\n",
       "      <td>support team wireless internet keep go reset r...</td>\n",
       "    </tr>\n",
       "    <tr>\n",
       "      <th>3</th>\n",
       "      <td>Account Access</td>\n",
       "      <td>Hey -  we just got a new team member on the ma...</td>\n",
       "      <td>hey got new team member market team tri get se...</td>\n",
       "    </tr>\n",
       "    <tr>\n",
       "      <th>4</th>\n",
       "      <td>General Question</td>\n",
       "      <td>Hey how do I delete my internet cookies? I saw...</td>\n",
       "      <td>hey delet internet cooki saw movi netflix larg...</td>\n",
       "    </tr>\n",
       "    <tr>\n",
       "      <th>...</th>\n",
       "      <td>...</td>\n",
       "      <td>...</td>\n",
       "      <td>...</td>\n",
       "    </tr>\n",
       "    <tr>\n",
       "      <th>260</th>\n",
       "      <td>Networking</td>\n",
       "      <td>I need to set up the second computer at my des...</td>\n",
       "      <td>need set second comput desk network share secu...</td>\n",
       "    </tr>\n",
       "    <tr>\n",
       "      <th>261</th>\n",
       "      <td>Networking</td>\n",
       "      <td>I have a vendor coming in to the office on Thu...</td>\n",
       "      <td>vendor come offic thursday need get set wifi a...</td>\n",
       "    </tr>\n",
       "    <tr>\n",
       "      <th>262</th>\n",
       "      <td>Networking</td>\n",
       "      <td>My laptop keeps losing wifi connection while I...</td>\n",
       "      <td>laptop keep lose wifi connect home doesnt happ...</td>\n",
       "    </tr>\n",
       "    <tr>\n",
       "      <th>263</th>\n",
       "      <td>Networking</td>\n",
       "      <td>I just got another workstation and need an add...</td>\n",
       "      <td>got anoth workstat need additon network cabl r...</td>\n",
       "    </tr>\n",
       "    <tr>\n",
       "      <th>264</th>\n",
       "      <td>Networking</td>\n",
       "      <td>I'm having issues with the VPN. My machine wil...</td>\n",
       "      <td>issu vpn machin connect lose vpn connect even ...</td>\n",
       "    </tr>\n",
       "  </tbody>\n",
       "</table>\n",
       "<p>265 rows × 3 columns</p>\n",
       "</div>"
      ],
      "text/plain": [
       "      Target Category                                         Email Body  \\\n",
       "0    Desktop Hardware  Hey IT support team - my monitor is not turnin...   \n",
       "1    Desktop Software  Hey - I just got a new laptop and I need some ...   \n",
       "2          Networking  IT Support team - my wireless internet keeps g...   \n",
       "3      Account Access  Hey -  we just got a new team member on the ma...   \n",
       "4    General Question  Hey how do I delete my internet cookies? I saw...   \n",
       "..                ...                                                ...   \n",
       "260        Networking  I need to set up the second computer at my des...   \n",
       "261        Networking  I have a vendor coming in to the office on Thu...   \n",
       "262        Networking  My laptop keeps losing wifi connection while I...   \n",
       "263        Networking  I just got another workstation and need an add...   \n",
       "264        Networking  I'm having issues with the VPN. My machine wil...   \n",
       "\n",
       "                                                stemed  \n",
       "0    hey support team monitor turn tri plug still n...  \n",
       "1    hey got new laptop need softwar old laptop som...  \n",
       "2    support team wireless internet keep go reset r...  \n",
       "3    hey got new team member market team tri get se...  \n",
       "4    hey delet internet cooki saw movi netflix larg...  \n",
       "..                                                 ...  \n",
       "260  need set second comput desk network share secu...  \n",
       "261  vendor come offic thursday need get set wifi a...  \n",
       "262  laptop keep lose wifi connect home doesnt happ...  \n",
       "263  got anoth workstat need additon network cabl r...  \n",
       "264  issu vpn machin connect lose vpn connect even ...  \n",
       "\n",
       "[265 rows x 3 columns]"
      ]
     },
     "execution_count": 29,
     "metadata": {},
     "output_type": "execute_result"
    }
   ],
   "source": [
    "data"
   ]
  },
  {
   "cell_type": "code",
   "execution_count": 30,
   "id": "712c8337",
   "metadata": {},
   "outputs": [],
   "source": [
    "from gensim.models import Word2Vec,KeyedVectors "
   ]
  },
  {
   "cell_type": "code",
   "execution_count": 37,
   "id": "ff822ffd",
   "metadata": {},
   "outputs": [],
   "source": [
    "wv = Word2Vec(corpus)"
   ]
  },
  {
   "cell_type": "code",
   "execution_count": 41,
   "id": "aa5fcbe1",
   "metadata": {},
   "outputs": [
    {
     "data": {
      "text/plain": [
       "<bound method Word2Vec.save of <gensim.models.word2vec.Word2Vec object at 0x000001FFBBFEDF60>>"
      ]
     },
     "execution_count": 41,
     "metadata": {},
     "output_type": "execute_result"
    }
   ],
   "source": [
    "wv.save"
   ]
  },
  {
   "cell_type": "code",
   "execution_count": 33,
   "id": "87e1f21b",
   "metadata": {},
   "outputs": [],
   "source": [
    "e = wv.build_vocab(data['stemed'])"
   ]
  },
  {
   "cell_type": "code",
   "execution_count": 34,
   "id": "c691c149",
   "metadata": {},
   "outputs": [],
   "source": [
    "w = wv.train(data['stemed'],total_words=100,epochs=1)"
   ]
  },
  {
   "cell_type": "code",
   "execution_count": null,
   "id": "81c0deba",
   "metadata": {},
   "outputs": [],
   "source": [
    "wv.check"
   ]
  }
 ],
 "metadata": {
  "kernelspec": {
   "display_name": "Python 3 (ipykernel)",
   "language": "python",
   "name": "python3"
  },
  "language_info": {
   "codemirror_mode": {
    "name": "ipython",
    "version": 3
   },
   "file_extension": ".py",
   "mimetype": "text/x-python",
   "name": "python",
   "nbconvert_exporter": "python",
   "pygments_lexer": "ipython3",
   "version": "3.9.7"
  }
 },
 "nbformat": 4,
 "nbformat_minor": 5
}
